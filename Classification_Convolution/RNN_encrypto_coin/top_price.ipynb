{
 "cells": [
  {
   "cell_type": "code",
   "execution_count": 1,
   "id": "d2c7bef7-ad5c-4a20-8825-c16d77c1eda2",
   "metadata": {},
   "outputs": [],
   "source": [
    "#최고가 구하기\n",
    "import get_data\n",
    "import tensorflow as tf\n",
    "import matplotlib.pyplot as plt\n",
    "import numpy as np\n",
    "from get_data import get_coindata\n",
    "from get_data import high_create_rnndata#BTC_days_T30\n",
    "from get_data import get_xpred\n",
    "import pickle \n",
    "pre_fix=\"high_\""
   ]
  },
  {
   "cell_type": "code",
   "execution_count": 2,
   "id": "59a29930-3616-471d-bfa9-77eb71b126be",
   "metadata": {},
   "outputs": [],
   "source": [
    "def scalerX(x_data):\n",
    "    x_scaler_mean = [] \n",
    "    x_scaler_std = []\n",
    "    #정규분포 변환\n",
    "    #z = (x - u) / s\n",
    "    import numpy as np\n",
    "    x_data = x_data.astype(np.float64)\n",
    "    for i in range(len(x_data[0][0])):#각 필드 정규분포 변환\n",
    "        xm = x_data[:,:,i].mean()\n",
    "        xs = x_data[:,:,i].std()\n",
    "        x_data[:,:,i] = (x_data[:,:,i]-xm)/xs\n",
    "        x_scaler_mean.append(xm)\n",
    "        x_scaler_std.append(xs)\n",
    "    with open(pre_fix+\"BTC_days.pic\",\"wb\") as fp:\n",
    "        pickle.dump({pre_fix+\"x_scaler_mean\":x_scaler_mean,pre_fix+\"x_scaler_std\":x_scaler_std},fp)\n",
    "    return x_data\n",
    "def pred_scaler(x_data):\n",
    "    with open(pre_fix+\"BTC_days.pic\",\"rb\") as fp:\n",
    "        scdata = pickle.load(fp)\n",
    "        x_scaler_mean = scdata[pre_fix+\"x_scaler_mean\"]\n",
    "        x_scaler_std = scdata[pre_fix+\"x_scaler_std\"]\n",
    "        print(x_scaler_mean)\n",
    "        print(x_scaler_std)\n",
    "    x_data = x_data.astype(np.float64)\n",
    "    for i in range(len(x_data[0][0])):#각 필드 정규분포 변환\n",
    "        x_data[:,:,i] = (x_data[:,:,i]-x_scaler_mean[i])/x_scaler_std[i]\n",
    "    return x_data"
   ]
  },
  {
   "cell_type": "code",
   "execution_count": 3,
   "id": "e50b4429-79ab-4d44-b071-5c284b51d5d6",
   "metadata": {},
   "outputs": [
    {
     "name": "stdout",
     "output_type": "stream",
     "text": [
      "3400\n",
      "(3370, 30, 1) (3370,)\n",
      "[-0.8989988]\n"
     ]
    }
   ],
   "source": [
    "#데이터 수신 및 생성\n",
    "rawdata = get_coindata(\"btc\",to=\"2016-03-02 23:59:00\")\n",
    "x_data,y_data=high_create_rnndata(rawdata)\n",
    "print(x_data.shape,y_data.shape)\n",
    "x_data = scalerX(x_data)\n",
    "print(x_data[0][0])"
   ]
  },
  {
   "cell_type": "code",
   "execution_count": null,
   "id": "c1df7702-b3ab-48d8-8e89-7027a5f53ef2",
   "metadata": {},
   "outputs": [],
   "source": []
  }
 ],
 "metadata": {
  "kernelspec": {
   "display_name": "Python 3 (ipykernel)",
   "language": "python",
   "name": "python3"
  },
  "language_info": {
   "codemirror_mode": {
    "name": "ipython",
    "version": 3
   },
   "file_extension": ".py",
   "mimetype": "text/x-python",
   "name": "python",
   "nbconvert_exporter": "python",
   "pygments_lexer": "ipython3",
   "version": "3.9.0"
  }
 },
 "nbformat": 4,
 "nbformat_minor": 5
}
